{
 "cells": [
  {
   "cell_type": "code",
   "execution_count": null,
   "id": "dc5a6a55",
   "metadata": {},
   "outputs": [],
   "source": []
  },
  {
   "cell_type": "markdown",
   "id": "af460685",
   "metadata": {},
   "source": [
    "Assigment"
   ]
  },
  {
   "cell_type": "code",
   "execution_count": null,
   "id": "1cdeb8f4",
   "metadata": {},
   "outputs": [],
   "source": [
    "import pandas as pd"
   ]
  },
  {
   "cell_type": "code",
   "execution_count": null,
   "id": "afca9338",
   "metadata": {},
   "outputs": [],
   "source": [
    "amazon_sale_data=pd.read_csv(\"C:/Users/OWNER/Desktop/amazon_sales_data 2025.csv\")"
   ]
  },
  {
   "cell_type": "code",
   "execution_count": null,
   "id": "fe895e3e",
   "metadata": {},
   "outputs": [],
   "source": [
    "amazon_sale_data"
   ]
  },
  {
   "cell_type": "markdown",
   "id": "c3bcb2c6",
   "metadata": {},
   "source": [
    "Grouping and Aggregation"
   ]
  },
  {
   "cell_type": "code",
   "execution_count": null,
   "id": "cde0a1d5",
   "metadata": {},
   "outputs": [],
   "source": [
    "#Group by and mean\n",
    "amazon_sale_data.groupby('Product')['Quantity'].sum()"
   ]
  },
  {
   "cell_type": "code",
   "execution_count": null,
   "id": "145cf39a",
   "metadata": {},
   "outputs": [],
   "source": [
    "import matplotlib.pyplot as plt\n",
    "import numpy as nap"
   ]
  },
  {
   "cell_type": "code",
   "execution_count": null,
   "id": "c49ab3ac",
   "metadata": {},
   "outputs": [],
   "source": [
    "X =amazon_sale_data[\"Product\"]\n",
    "y=amazon_sale_data[\"Total Sales\"]\n",
    "plt.bar( X,y,color =\"red\")\n",
    "plt.show()"
   ]
  },
  {
   "cell_type": "markdown",
   "id": "b7fb21e3",
   "metadata": {},
   "source": [
    "#This is a comparism between products and Total sales by company Rating the sales against the product (1)The highest #saling product is Rafrigerattor #6000 annuel,followed by laptop,smart phone while th least is Book and smartwatch\n",
    "#Advice the company should invest more money in Rafrigerator,smartphone and laptop.I will suggest that the company #to invest more in  Advert for products Book,Runining shoes,Jeans,etc  "
   ]
  },
  {
   "cell_type": "code",
   "execution_count": null,
   "id": "b7b32236",
   "metadata": {},
   "outputs": [],
   "source": [
    "product_Sales=amazon_sale_data.groupby(\"Product\")[\"Total sales\"].sum()\n",
    "plt.bar(product_counts.index,product_sales.values,color= \"lightcoral\")\n",
    "plt.ylable(\"Product\")\n",
    "plt.ylabel(\"Total sales\")\n",
    "plt.title(\"Total sales by product\")\n",
    "plt.show()"
   ]
  },
  {
   "cell_type": "code",
   "execution_count": null,
   "id": "a6fa1b9d",
   "metadata": {},
   "outputs": [],
   "source": [
    "import pandas as pd\n",
    "import matplotlib.pyplot as plt"
   ]
  },
  {
   "cell_type": "code",
   "execution_count": null,
   "id": "8fc4e2e3",
   "metadata": {},
   "outputs": [],
   "source": [
    "amazon_sale_data=pd.read_csv(\"C:/Users/OWNER/Desktop/amazon_sales_data 2025.csv\")"
   ]
  },
  {
   "cell_type": "code",
   "execution_count": null,
   "id": "9d48ce5f",
   "metadata": {},
   "outputs": [],
   "source": [
    "product_Salesct_Sales=amazon_sale_data.groupby(\"Product\")[\"Total Sales\"].sum()"
   ]
  },
  {
   "cell_type": "code",
   "execution_count": null,
   "id": "86e71e49",
   "metadata": {},
   "outputs": [],
   "source": [
    "Product_Sales=amazon_sale_data.groupby(\"Product\")[\"Total Sales\"].sum()"
   ]
  },
  {
   "cell_type": "code",
   "execution_count": null,
   "id": "5546e1d8",
   "metadata": {},
   "outputs": [],
   "source": [
    "print(amazon_sale_data.columns)"
   ]
  },
  {
   "cell_type": "code",
   "execution_count": null,
   "id": "70412304",
   "metadata": {},
   "outputs": [
    {
     "ename": "SyntaxError",
     "evalue": "invalid syntax. Maybe you meant '==' or ':=' instead of '='? (255725603.py, line 1)",
     "output_type": "error",
     "traceback": [
      "  \u001b[36mCell\u001b[39m\u001b[36m \u001b[39m\u001b[32mIn[8]\u001b[39m\u001b[32m, line 1\u001b[39m\n\u001b[31m    \u001b[39m\u001b[31mplt.pie:((Total_sales,lables=product.index),autopct=\"%1.1f%%\".startangle=90)\u001b[39m\n                          ^\n\u001b[31mSyntaxError\u001b[39m\u001b[31m:\u001b[39m invalid syntax. Maybe you meant '==' or ':=' instead of '='?\n"
     ]
    }
   ],
   "source": [
    "plt.pie((Total_sales,lables=product.index),autopct=\"%1.1f%%\".startangle=90)\n",
    "plt.title(\"share of Total Sales by product\")\n",
    "plt.axis(\"equal\")\n",
    "plt.show()       "
   ]
  },
  {
   "cell_type": "code",
   "execution_count": null,
   "id": "5d969acd",
   "metadata": {},
   "outputs": [],
   "source": [
    "amazon_sale_data.head()"
   ]
  }
 ],
 "metadata": {
  "kernelspec": {
   "display_name": "Python 3",
   "language": "python",
   "name": "python3"
  },
  "language_info": {
   "codemirror_mode": {
    "name": "ipython",
    "version": 3
   },
   "file_extension": ".py",
   "mimetype": "text/x-python",
   "name": "python",
   "nbconvert_exporter": "python",
   "pygments_lexer": "ipython3",
   "version": "3.13.5"
  }
 },
 "nbformat": 4,
 "nbformat_minor": 5
}
